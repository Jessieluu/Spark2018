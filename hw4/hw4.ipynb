{
 "cells": [
  {
   "cell_type": "code",
   "execution_count": 12,
   "metadata": {
    "collapsed": false
   },
   "outputs": [
    {
     "name": "stdout",
     "output_type": "stream",
     "text": [
      "Map term finished!\n",
      "Matrix finished!\n",
      "Output finished!\n"
     ]
    }
   ],
   "source": [
    "from bs4 import BeautifulSoup\n",
    "from operator import add\n",
    "import re\n",
    "import codecs\n",
    "import csv\n",
    "import numpy as numpy\n",
    "\n",
    "Bodys = []\n",
    "terms = []\n",
    "\n",
    "for file in os.listdir(\"data/\"):\n",
    "    if file.endswith(\".sgm\"):\n",
    "        filename = os.path.join(\"data\", file)\n",
    "        if ( filename == \"data/reut2-003.sgm\"):\n",
    "            with codecs.open(filename, \"r\", encoding='utf-8', errors='ignore') as fn:\n",
    "                soup = BeautifulSoup(fn.read(), \"html.parser\")\n",
    "                bodies = soup.findAll('body')\n",
    "\n",
    "                for body in bodies:\n",
    "                    Bodys.append(str(body))\n",
    "                    temp = re.sub(\"(<body>|</body>)\", \" \", str(body))\n",
    "                    fixBodys = re.findall(\"[a-zA-Z]+\", temp)\n",
    "\n",
    "                    for fixBody in fixBodys:\n",
    "                        terms.append(fixBody.lower())\n",
    "\n",
    "rowData_term = sc.parallelize(terms)\n",
    "rowData_term_rdd = rowData_term.map(lambda x : (x, 1)).reduceByKey(add).map(lambda x: x[0]).collect()\n",
    "print(\"Map term finished!\")\n",
    "\n",
    "Matrix = []\n",
    "for term in rowData_term_rdd:\n",
    "    temp = []\n",
    "    for Body in Bodys:\n",
    "        temp.append(Body.count(term))\n",
    "    Matrix.append(temp)\n",
    "print(\"Matrix finished!\")\n",
    "\n",
    "tfMatrix = sc.parallelize(Matrix)\n",
    "with open (\"hw4_1.txt\", 'w', newline='') as output:\n",
    "    writer = csv.writer(output)\n",
    "    writer.writerows(tfMatrix.collect())\n",
    "print(\"Output finished!\")"
   ]
  },
  {
   "cell_type": "code",
   "execution_count": 14,
   "metadata": {
    "collapsed": false
   },
   "outputs": [
    {
     "name": "stdout",
     "output_type": "stream",
     "text": [
      "Output finished!\n"
     ]
    }
   ],
   "source": [
    "from pyspark.mllib.linalg.distributed import *\n",
    "\n",
    "tempList = []\n",
    "i = 0\n",
    "while i < len(Bodys) :\n",
    "    if i%2 == 0:\n",
    "        tempList.append(0)\n",
    "    else:\n",
    "        tempList.append(1)\n",
    "    i+=1\n",
    "matMaster = RowMatrix(tfMatrix)\n",
    "dm = Matrices.dense(len(Bodys), 1, tempList)\n",
    "temp = matMaster.multiply(dm)\n",
    "\n",
    "with open( \"hw4_2.txt\", 'w', newline='') as output:\n",
    "    writer = csv.writer(output)\n",
    "    writer.writerows(temp.rows.collect())\n",
    "print(\"Output finished!\")"
   ]
  },
  {
   "cell_type": "code",
   "execution_count": null,
   "metadata": {
    "collapsed": true
   },
   "outputs": [],
   "source": []
  }
 ],
 "metadata": {
  "kernelspec": {
   "display_name": "Python 3",
   "language": "python",
   "name": "python3"
  },
  "language_info": {
   "codemirror_mode": {
    "name": "ipython",
    "version": 3
   },
   "file_extension": ".py",
   "mimetype": "text/x-python",
   "name": "python",
   "nbconvert_exporter": "python",
   "pygments_lexer": "ipython3",
   "version": "3.5.1"
  }
 },
 "nbformat": 4,
 "nbformat_minor": 0
}

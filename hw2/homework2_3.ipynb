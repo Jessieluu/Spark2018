{
 "cells": [
  {
   "cell_type": "code",
   "execution_count": 4,
   "metadata": {
    "collapsed": false
   },
   "outputs": [
    {
     "name": "stdout",
     "output_type": "stream",
     "text": [
      "Success!\n"
     ]
    }
   ],
   "source": [
    "import csv\n",
    "\n",
    "global Path\n",
    "Path = \"file:/home/ethan/pythonwork/ipynotebook/hw2/\"\n",
    "\n",
    "FacebookInput = Path + \"News_Final.csv\"\n",
    "FacebookTotal = sc.textFile(FacebookInput).map(lambda line: line.split(\",\"))\n",
    "\n",
    "# remove header\n",
    "head = FacebookTotal.first()\n",
    "subData = FacebookTotal.filter(lambda x: x!= head)\n",
    "\n",
    "topicObama = subData.filter(lambda x: x[4] == '\"obama\"').map(lambda i: (float(i[-5]) + float(i[-4])) )\n",
    "topicEconomy = subData.filter(lambda x: x[4] == '\"economy\"').map(lambda i: (float(i[-5]) + float(i[-4])) )\n",
    "topicMicrosoft = subData.filter(lambda x: x[4] == '\"microsoft\"').map(lambda i: (float(i[-5]) + float(i[-4])) )\n",
    "topicPalestine = subData.filter(lambda x: x[4] == '\"palestine\"').map(lambda i: (float(i[-5]) + float(i[-4])) )\n",
    "\n",
    "\n",
    "outputString = [(\"Topic\", \"SumofSentiment\" \"AvgofSentiment\"),\\\n",
    "               (\" obama \" , topicObama.sum(), topicObama.sum()/topicObama.count()),\\\n",
    "               (\" economy \" , topicEconomy.sum(), topicEconomy.sum()/topicEconomy.count()),\\\n",
    "               (\" microsoft \" , topicMicrosoft.sum(), topicMicrosoft.sum()/topicMicrosoft.count()),\\\n",
    "               (\" palestine \" , topicPalestine.sum(), topicPalestine.sum()/topicPalestine.count())] \n",
    "\n",
    "fileName = \"hw2_3.txt\"\n",
    "with open(fileName, 'w', newline='') as file:\n",
    "    writer = csv.writer(file)\n",
    "    writer.writerows (outputString)\n",
    "\n",
    "print(\"Done!\")"
   ]
  },
  {
   "cell_type": "code",
   "execution_count": null,
   "metadata": {
    "collapsed": true
   },
   "outputs": [],
   "source": []
  }
 ],
 "metadata": {
  "kernelspec": {
   "display_name": "Python 3",
   "language": "python",
   "name": "python3"
  },
  "language_info": {
   "codemirror_mode": {
    "name": "ipython",
    "version": 3
   },
   "file_extension": ".py",
   "mimetype": "text/x-python",
   "name": "python",
   "nbconvert_exporter": "python",
   "pygments_lexer": "ipython3",
   "version": "3.5.1"
  }
 },
 "nbformat": 4,
 "nbformat_minor": 0
}

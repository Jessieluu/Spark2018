{
 "cells": [
  {
   "cell_type": "code",
   "execution_count": 2,
   "metadata": {
    "collapsed": false
   },
   "outputs": [
    {
     "name": "stdout",
     "output_type": "stream",
     "text": [
      "Success!\n"
     ]
    }
   ],
   "source": [
    "import csv\n",
    "\n",
    "global Path\n",
    "Path = \"file:/home/ethan/pythonwork/ipynotebook/hw2/\"\n",
    "\n",
    "FacebookInput = Path + \"Facebook_*.csv\"\n",
    "GoogleInput = Path + \"GooglePlus_*.csv\"\n",
    "LinkedInInput = Path + \"LinkedIn_*.csv\"\n",
    "\n",
    "FacebookTotal = sc.textFile(FacebookInput).map(lambda line: line.split(\",\"))\n",
    "GoogleTotal = sc.textFile(GoogleInput).map(lambda line: line.split(\",\"))\n",
    "LinkedInTotal = sc.textFile(LinkedInInput).map(lambda line: line.split(\",\"))\n",
    "\n",
    "# remove header\n",
    "head_FB = FacebookTotal.first()\n",
    "head_Google = GoogleTotal.first()\n",
    "head_LI = LinkedInTotal.first()\n",
    "\n",
    "subData_FB = FacebookTotal.filter(lambda x: x!= head_FB)\n",
    "subData_Google = GoogleTotal.filter(lambda x: x!= head_Google)\n",
    "subData_LI = LinkedInTotal.filter(lambda x: x!= head_LI)\n",
    "\n",
    "# calculate value\n",
    "cal_FB_avgbyhour = subData_FB.map(lambda i: (i[0], sum([int(x) for x in i[1:]])/48 ) )\n",
    "cal_FB_avgbyday = subData_FB.map(lambda i: (i[0], sum([int(x) for x in i[1:]])/2 ) )\n",
    "\n",
    "cal_GOOGLE_avgbyhour = subData_Google.map(lambda i: (i[0], sum([int(x) for x in i[1:]])/48 ) )\n",
    "cal_GOOGLE_avgbyday = subData_Google.map(lambda i: (i[0], sum([int(x) for x in i[1:]])/2 ) )\n",
    "\n",
    "cal_LI_avgbyhour = subData_LI.map(lambda i: (i[0], sum([int(x) for x in i[1:]])/48 ) )\n",
    "cal_LI_avgbyday = subData_LI.map(lambda i: (i[0], sum([int(x) for x in i[1:]])/2 ) )\n",
    "\n",
    "outputTitle_hour = [(\"IDLINK\", \"AveragePerHour\")]\n",
    "outputTitle_day = [(\"IDLINK\", \"AveragePerDay\")]\n",
    "\n",
    "output_fb_hour = \"hw2_2_Facebook_byHour.txt\"\n",
    "output_fb_day = \"hw2_2_Facebook_byday.txt\"\n",
    "\n",
    "output_google_hour = \"hw2_2_Google_byHour.txt\"\n",
    "output_google_day = \"hw2_2_Google_byday.txt\"\n",
    "\n",
    "output_LI_hour = \"hw2_2_LinkedIn_byHour.txt\"\n",
    "output_LI_day = \"hw2_2_LinkedIn_byday.txt\"\n",
    "\n",
    "with open(output_fb_hour, 'w', newline='') as file:\n",
    "    writer = csv.writer(file)\n",
    "    writer.writerows(outputTitle_hour)\n",
    "    writer.writerows(cal_FB_avgbyhour.collect())\n",
    "\n",
    "with open(output_fb_day, 'w', newline='') as file:\n",
    "    writer = csv.writer(file)\n",
    "    writer.writerows(outputTitle_day)\n",
    "    writer.writerows(cal_FB_avgbyday.collect())\n",
    "    \n",
    "with open(output_google_hour, 'w', newline='') as file:\n",
    "    writer = csv.writer(file)\n",
    "    writer.writerows(outputTitle_hour)\n",
    "    writer.writerows(cal_GOOGLE_avgbyhour.collect())\n",
    "\n",
    "with open(output_google_day, 'w', newline='') as file:\n",
    "    writer = csv.writer(file)\n",
    "    writer.writerows(outputTitle_day)\n",
    "    writer.writerows(cal_GOOGLE_avgbyday.collect())\n",
    "    \n",
    "with open(output_LI_hour, 'w', newline='') as file:\n",
    "    writer = csv.writer(file)\n",
    "    writer.writerows(outputTitle_hour)\n",
    "    writer.writerows(cal_LI_avgbyhour.collect())\n",
    "\n",
    "with open(output_LI_day, 'w', newline='') as file:\n",
    "    writer = csv.writer(file)\n",
    "    writer.writerows(outputTitle_day)\n",
    "    writer.writerows(cal_LI_avgbyday.collect())\n",
    "    \n",
    "print(\"Done!\")"
   ]
  },
  {
   "cell_type": "code",
   "execution_count": null,
   "metadata": {
    "collapsed": true
   },
   "outputs": [],
   "source": []
  }
 ],
 "metadata": {
  "kernelspec": {
   "display_name": "Python 3",
   "language": "python",
   "name": "python3"
  },
  "language_info": {
   "codemirror_mode": {
    "name": "ipython",
    "version": 3
   },
   "file_extension": ".py",
   "mimetype": "text/x-python",
   "name": "python",
   "nbconvert_exporter": "python",
   "pygments_lexer": "ipython3",
   "version": "3.5.1"
  }
 },
 "nbformat": 4,
 "nbformat_minor": 0
}

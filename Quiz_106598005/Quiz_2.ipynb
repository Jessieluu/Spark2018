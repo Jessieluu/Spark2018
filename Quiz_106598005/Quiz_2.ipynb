{
 "cells": [
  {
   "cell_type": "code",
   "execution_count": 2,
   "metadata": {
    "collapsed": false
   },
   "outputs": [
    {
     "name": "stdout",
     "output_type": "stream",
     "text": [
      "done\n"
     ]
    }
   ],
   "source": [
    "import csv\n",
    "from operator import add\n",
    "global Path\n",
    "Path = \"file:/home/ethan/pythonwork/ipynotebook/quiz/\"\n",
    "\n",
    "# input data\n",
    "dataset = sc.textFile( Path + \"kddcup.data.corrected\" )\n",
    "\n",
    "#split data with \",\"\n",
    "rowData = dataset.map(lambda row : row.split(\",\"))\n",
    "\n",
    "#protocol_type\n",
    "protocol_type = rowData.map(lambda column: column[1])\\\n",
    "                        .map(lambda x : (x, 1))\\\n",
    "                        .reduceByKey(add).sortBy(lambda x: -x[1])\n",
    "pro_tmp =  protocol_type.collect()     \n",
    "\n",
    "#service\n",
    "service = rowData.map(lambda column: column[2])\\\n",
    "                        .map(lambda x : (x, 1))\\\n",
    "                        .reduceByKey(add).sortBy(lambda x: -x[1])\n",
    "ser_tmp =  service.collect()   \n",
    "\n",
    "#flag\n",
    "flag = rowData.map(lambda column: column[3])\\\n",
    "                        .map(lambda x : (x, 1))\\\n",
    "                        .reduceByKey(add).sortBy(lambda x: -x[1])\n",
    "flag_tmp =  flag.collect()   \n",
    "\n",
    "#logged_in\n",
    "logged_in = rowData.map(lambda column: column[11])\\\n",
    "                        .map(lambda x : (x, 1))\\\n",
    "                        .reduceByKey(add).sortBy(lambda x: -x[1])\n",
    "logged_tmp =  logged_in.collect()   \n",
    "\n",
    "#intrusion_type\n",
    "intrusion_type = rowData.map(lambda column: column[-1])\\\n",
    "                        .map(lambda x : (x, 1))\\\n",
    "                        .reduceByKey(add).sortBy(lambda x: -x[1])\n",
    "ins_tmp =  intrusion_type.collect()   \n",
    "\n",
    "with open('task2.txt' , 'a') as file:\n",
    "    file.write(\"protocol_type:\")\n",
    "    file.write(\"\\n\")\n",
    "    for i in range(0, protocol_type.count()):\n",
    "        file.write(str(pro_tmp[i]))\n",
    "        file.write(\"\\n\")\n",
    "        \n",
    "    file.write(\"service:\")\n",
    "    file.write(\"\\n\")\n",
    "    for i in range(0, service.count()):\n",
    "        file.write(str(ser_tmp[i]))\n",
    "        file.write(\"\\n\")\n",
    "        \n",
    "    file.write(\"flag:\")\n",
    "    file.write(\"\\n\")\n",
    "    for i in range(0, flag.count()):\n",
    "        file.write(str(flag_tmp[i]))\n",
    "        file.write(\"\\n\")\n",
    "        \n",
    "    file.write(\"logged_in:\")\n",
    "    file.write(\"\\n\")\n",
    "    for i in range(0, logged_in.count()):\n",
    "        file.write(str(logged_tmp[i]))\n",
    "        file.write(\"\\n\")\n",
    "        \n",
    "    file.write(\"intrusion_type:\")\n",
    "    file.write(\"\\n\")\n",
    "    for i in range(0, intrusion_type.count()):\n",
    "        file.write(str(ins_tmp[i]))\n",
    "        file.write(\"\\n\")\n",
    "        \n",
    "print('done')        "
   ]
  },
  {
   "cell_type": "code",
   "execution_count": null,
   "metadata": {
    "collapsed": true
   },
   "outputs": [],
   "source": []
  }
 ],
 "metadata": {
  "kernelspec": {
   "display_name": "Python 3",
   "language": "python",
   "name": "python3"
  },
  "language_info": {
   "codemirror_mode": {
    "name": "ipython",
    "version": 3
   },
   "file_extension": ".py",
   "mimetype": "text/x-python",
   "name": "python",
   "nbconvert_exporter": "python",
   "pygments_lexer": "ipython3",
   "version": "3.5.1"
  }
 },
 "nbformat": 4,
 "nbformat_minor": 0
}

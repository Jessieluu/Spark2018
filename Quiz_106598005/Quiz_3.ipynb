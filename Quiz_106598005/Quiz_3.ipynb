{
 "cells": [
  {
   "cell_type": "code",
   "execution_count": null,
   "metadata": {
    "collapsed": false
   },
   "outputs": [],
   "source": [
    "import csv\n",
    "from operator import add\n",
    "global Path\n",
    "Path = \"file:/home/ethan/pythonwork/ipynotebook/quiz/\"\n",
    "\n",
    "# input data\n",
    "dataset = sc.textFile( Path + \"kddcup.data.corrected\" )\n",
    "\n",
    "#split data with \",\"\n",
    "rowData = dataset.map(lambda row : row.split(\",\"))\n",
    "\n",
    "# title\n",
    "print(\"reduce\")\n",
    "intrusion_type = rowData.map(lambda x: (x[-1], (x[2], 1) )).reduceByKey(add)\n",
    "\n",
    "count_intrusion_type = intrusion_type.count()\n",
    "intr_word = intrusion_type.collect()\n",
    "\n",
    "print(intrusion_type.collect()[1])\n",
    "\n",
    "print(\"take service\")   \n",
    "intrusion_type_service = intrusion_type.map(lambda x: x[1]).reduceByKey(add).sortBy(lambda x: -x[1]).take(1)\n",
    "\n",
    "print(intrusion_type_service)\n",
    "\n",
    "for i in range(0, count_intrusion_type):\n",
    "    output = [(\"intrusion_type:\", intr_word[i], intrusion_type_service )]\n",
    "    \n",
    "    with open('task3.txt', 'a+', newline='') as file:\n",
    "        writer = csv.writer(file)\n",
    "        writer.writerows(output)\n",
    "        "
   ]
  },
  {
   "cell_type": "code",
   "execution_count": null,
   "metadata": {
    "collapsed": true
   },
   "outputs": [],
   "source": []
  }
 ],
 "metadata": {
  "kernelspec": {
   "display_name": "Python 3",
   "language": "python",
   "name": "python3"
  },
  "language_info": {
   "codemirror_mode": {
    "name": "ipython",
    "version": 3
   },
   "file_extension": ".py",
   "mimetype": "text/x-python",
   "name": "python",
   "nbconvert_exporter": "python",
   "pygments_lexer": "ipython3",
   "version": "3.5.1"
  }
 },
 "nbformat": 4,
 "nbformat_minor": 0
}

{
 "cells": [
  {
   "cell_type": "code",
   "execution_count": 19,
   "metadata": {
    "collapsed": false
   },
   "outputs": [
    {
     "name": "stdout",
     "output_type": "stream",
     "text": [
      "done!\n"
     ]
    }
   ],
   "source": [
    "import csv\n",
    "from statistics import mode\n",
    "global Path\n",
    "Path = \"file:/home/ethan/pythonwork/ipynotebook/quiz/\"\n",
    "\n",
    "# input data\n",
    "dataset = sc.textFile( Path + \"kddcup.data.corrected\" )\n",
    "\n",
    "#split data with \",\"\n",
    "rowData = dataset.map(lambda row : row.split(\",\"))\n",
    "\n",
    "duration = rowData.map(lambda column: column[0]).map(lambda x: float(x))\n",
    "src_bytes = rowData.map(lambda column: column[4]).map(lambda x: float(x))\n",
    "dst_bytes = rowData.map(lambda column: column[5]).map(lambda x: float(x))\n",
    "num_failed_logins = rowData.map(lambda column: column[10]).map(lambda x: float(x))\n",
    "\n",
    "def get_median(data):\n",
    "   data = sorted(data.collect())\n",
    "   size = len(data)\n",
    "   if size % 2 == 0: # 判断列表长度为偶数\n",
    "    median = (data[size//2]+data[size//2-1])/2\n",
    "    data[0] = median\n",
    "   if size % 2 == 1: # 判断列表长度为奇数\n",
    "    median = data[(size-1)//2]\n",
    "    data[0] = median\n",
    "   return data[0]\n",
    "\n",
    "outputString = [(\"attribute\", \"Mean\", \"Median\", \"Mode\", \"Standard Deviation\"),\\\n",
    "               (\"duration \" , duration.mean(), get_median(duration), int(mode(duration.collect())), duration.mean()),\\\n",
    "               (\"src_bytes \" , src_bytes.mean(), get_median(src_bytes), int(mode(src_bytes.collect())), src_bytes.mean()),\\\n",
    "               (\"dst_bytes \" , dst_bytes.mean(), get_median(dst_bytes), int(mode(dst_bytes.collect())), dst_bytes.mean()),\\\n",
    "               (\"num_failed_logins \" , num_failed_logins.mean(), get_median(num_failed_logins), int(mode(num_failed_logins.collect())), num_failed_logins.mean())] \n",
    "\n",
    "with open('task1.txt', 'w', newline='') as file:\n",
    "    writer = csv.writer(file)\n",
    "    writer.writerows(outputString)\n",
    "\n",
    "print(\"done!\")"
   ]
  },
  {
   "cell_type": "code",
   "execution_count": null,
   "metadata": {
    "collapsed": true
   },
   "outputs": [],
   "source": []
  }
 ],
 "metadata": {
  "kernelspec": {
   "display_name": "Python 3",
   "language": "python",
   "name": "python3"
  },
  "language_info": {
   "codemirror_mode": {
    "name": "ipython",
    "version": 3
   },
   "file_extension": ".py",
   "mimetype": "text/x-python",
   "name": "python",
   "nbconvert_exporter": "python",
   "pygments_lexer": "ipython3",
   "version": "3.5.1"
  }
 },
 "nbformat": 4,
 "nbformat_minor": 0
}

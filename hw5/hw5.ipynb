{
 "cells": [
  {
   "cell_type": "code",
   "execution_count": 2,
   "metadata": {
    "collapsed": false
   },
   "outputs": [
    {
     "name": "stdout",
     "output_type": "stream",
     "text": [
      "Read file......\n",
      "Read file done!\n",
      "Map and reduce data......\n",
      "Map and reduce data done!\n",
      "Output......\n",
      "Output done!\n"
     ]
    }
   ],
   "source": [
    "import re\n",
    "import csv\n",
    "from operator import add\n",
    "\n",
    "global Path\n",
    "Path = \"file:/home/ethan/pythonwork/ipynotebook/hw5/\"\n",
    "\n",
    "#read data\n",
    "print(\"Read file......\")\n",
    "dataset = sc.textFile(Path + 'web-Google.txt')\n",
    "print(\"Read file done!\")\n",
    "\n",
    "\n",
    "# =================\n",
    "#      task 1\n",
    "# =================\n",
    "\n",
    "print(\"Map and reduce data......\")\n",
    "#split data with \" \" and map\n",
    "rowData = dataset.filter(lambda x : not x[0] == '#')\\\n",
    "            .map(lambda row : row.split(\"\\t\"))\\\n",
    "            .map(lambda x: x[0])\\\n",
    "            .map(lambda x: (x, 1))\\\n",
    "            .reduceByKey(add)\\\n",
    "            .sortBy(lambda x: -x[1])\n",
    "\n",
    "output_title = [(\"Node\", \"Count\")]\n",
    "print(\"Map and reduce data done!\")\n",
    "\n",
    "print(\"Output......\")\n",
    "with open(\"hw5_1.csv\", 'a+', newline='') as file:\n",
    "    writer = csv.writer(file)\n",
    "    writer.writerows(output_title)\n",
    "    writer.writerows(rowData.collect())\n",
    "\n",
    "print(\"Output done!\")\n",
    "\n"
   ]
  },
  {
   "cell_type": "code",
   "execution_count": 3,
   "metadata": {
    "collapsed": false
   },
   "outputs": [
    {
     "name": "stdout",
     "output_type": "stream",
     "text": [
      "Map and reduce data......\n",
      "Map and reduce data done!\n",
      "Output......\n",
      "Output done!\n"
     ]
    }
   ],
   "source": [
    "# =================\n",
    "#      task 2\n",
    "# =================\n",
    "\n",
    "print(\"Map and reduce data......\")\n",
    "#split data with \" \" and map\n",
    "rowData = dataset.filter(lambda x : not x[0] == '#')\\\n",
    "            .map(lambda row : row.split(\"\\t\"))\\\n",
    "            .map(lambda x: x[1])\\\n",
    "            .map(lambda x: (x, 1))\\\n",
    "            .reduceByKey(add)\\\n",
    "            .sortBy(lambda x: -x[1])\n",
    "\n",
    "output_title = [(\"Node\", \"Count\")]\n",
    "print(\"Map and reduce data done!\")\n",
    "\n",
    "print(\"Output......\")\n",
    "with open(\"hw5_2.csv\", 'a+', newline='') as file:\n",
    "    writer = csv.writer(file)\n",
    "    writer.writerows(output_title)\n",
    "    writer.writerows(rowData.collect())\n",
    "\n",
    "print(\"Output done!\")"
   ]
  },
  {
   "cell_type": "code",
   "execution_count": null,
   "metadata": {
    "collapsed": true
   },
   "outputs": [],
   "source": []
  }
 ],
 "metadata": {
  "kernelspec": {
   "display_name": "Python 3",
   "language": "python",
   "name": "python3"
  },
  "language_info": {
   "codemirror_mode": {
    "name": "ipython",
    "version": 3
   },
   "file_extension": ".py",
   "mimetype": "text/x-python",
   "name": "python",
   "nbconvert_exporter": "python",
   "pygments_lexer": "ipython3",
   "version": "3.5.1"
  }
 },
 "nbformat": 4,
 "nbformat_minor": 0
}

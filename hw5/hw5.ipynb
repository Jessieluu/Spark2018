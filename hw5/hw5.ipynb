{
 "cells": [
  {
   "cell_type": "code",
   "execution_count": 10,
   "metadata": {
    "collapsed": false
   },
   "outputs": [
    {
     "name": "stdout",
     "output_type": "stream",
     "text": [
      "Read file......\n",
      "Read file done!\n",
      "Map and reduce data......\n",
      "Map and reduce data done!\n"
     ]
    }
   ],
   "source": [
    "import re\n",
    "import csv\n",
    "from operator import add\n",
    "\n",
    "global Path\n",
    "Path = \"file:/home/ethan/pythonwork/ipynotebook/hw5/\"\n",
    "\n",
    "#read data\n",
    "print(\"Read file......\")\n",
    "dataset = sc.textFile(Path + 'web-Google.txt')\n",
    "print(\"Read file done!\")\n",
    "\n",
    "\n",
    "# =================\n",
    "#      task 1\n",
    "# =================\n",
    "\n",
    "print(\"Map and reduce data......\")\n",
    "#split data with \" \" and map\n",
    "rowDataIn = dataset.filter(lambda x : not x[0] == '#')\\\n",
    "            .map(lambda row : row.split(\"\\t\"))\\\n",
    "            .map(lambda x: x[0])\\\n",
    "            .map(lambda x: (x, 1))\\\n",
    "            .reduceByKey(add)\\\n",
    "            .sortBy(lambda x: -x[1])\n",
    "\n",
    "output_title = [(\"Node\", \"Count\")]\n",
    "print(\"Map and reduce data done!\")\n",
    "\n",
    "# print(\"Output......\")\n",
    "# with open(\"hw5_1.csv\", 'a+', newline='') as file:\n",
    "#     writer = csv.writer(file)\n",
    "#     writer.writerows(output_title)\n",
    "#     writer.writerows(rowData.collect())\n",
    "\n",
    "# print(\"Output done!\")\n",
    "\n"
   ]
  },
  {
   "cell_type": "code",
   "execution_count": 11,
   "metadata": {
    "collapsed": false
   },
   "outputs": [
    {
     "name": "stdout",
     "output_type": "stream",
     "text": [
      "Map and reduce data......\n",
      "Map and reduce data done!\n"
     ]
    }
   ],
   "source": [
    "# =================\n",
    "#      task 2\n",
    "# =================\n",
    "\n",
    "print(\"Map and reduce data......\")\n",
    "#split data with \" \" and map\n",
    "rowDataOut = dataset.filter(lambda x : not x[0] == '#')\\\n",
    "            .map(lambda row : row.split(\"\\t\"))\\\n",
    "            .map(lambda x: x[1])\\\n",
    "            .map(lambda x: (x, 1))\\\n",
    "            .reduceByKey(add)\\\n",
    "            .sortBy(lambda x: -x[1])\n",
    "\n",
    "output_title = [(\"Node\", \"Count\")]\n",
    "print(\"Map and reduce data done!\")\n",
    "\n",
    "# print(\"Output......\")\n",
    "# with open(\"hw5_2.csv\", 'a+', newline='') as file:\n",
    "#     writer = csv.writer(file)\n",
    "#     writer.writerows(output_title)\n",
    "#     writer.writerows(rowData.collect())\n",
    "\n",
    "# print(\"Output done!\")"
   ]
  },
  {
   "cell_type": "code",
   "execution_count": 24,
   "metadata": {
    "collapsed": false
   },
   "outputs": [
    {
     "name": "stdout",
     "output_type": "stream",
     "text": [
      "Please enter the node for calculate:0\n",
      "In Node and Count: [('0', 4)]\n",
      "Out Node and Count: [('0', 212)]\n"
     ]
    }
   ],
   "source": [
    "# =================\n",
    "#      task 3\n",
    "# =================\n",
    "        \n",
    "###get input node for calculate\n",
    "while True:\n",
    "    try:\n",
    "        node = int(input(\"Please enter the node for calculate:\"))\n",
    "    except ValueError:\n",
    "        print(\"Your input is not valid.\")\n",
    "        continue\n",
    "    if node < 0:\n",
    "        continue\n",
    "    else:\n",
    "        break\n",
    "        \n",
    "fromNodeFilter = rowDataIn.filter(lambda x : x[0] == str(node) )\n",
    "toNodeFilter = rowDataOut.filter(lambda x : x[0] == str(node))\n",
    "\n",
    "print(\"In Node and Count:\", fromNodeFilter.collect()) \n",
    "print(\"Out Node and Count:\", toNodeFilter.collect())"
   ]
  },
  {
   "cell_type": "code",
   "execution_count": null,
   "metadata": {
    "collapsed": true
   },
   "outputs": [],
   "source": []
  }
 ],
 "metadata": {
  "kernelspec": {
   "display_name": "Python 3",
   "language": "python",
   "name": "python3"
  },
  "language_info": {
   "codemirror_mode": {
    "name": "ipython",
    "version": 3
   },
   "file_extension": ".py",
   "mimetype": "text/x-python",
   "name": "python",
   "nbconvert_exporter": "python",
   "pygments_lexer": "ipython3",
   "version": "3.5.1"
  }
 },
 "nbformat": 4,
 "nbformat_minor": 0
}

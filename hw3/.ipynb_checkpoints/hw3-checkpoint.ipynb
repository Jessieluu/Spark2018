{
 "cells": [
  {
   "cell_type": "code",
   "execution_count": 4,
   "metadata": {
    "collapsed": false
   },
   "outputs": [
    {
     "name": "stdout",
     "output_type": "stream",
     "text": [
      "Reading files....\n",
      "It took 0.84 sec to read data\n",
      "Preparing for data...\n",
      "It took 17.18 sec to prepare data\n"
     ]
    }
   ],
   "source": [
    "from bs4 import BeautifulSoup\n",
    "import os.path\n",
    "import os\n",
    "import time\n",
    "import re\n",
    "import codecs\n",
    "import string\n",
    "\n",
    "documents = []\n",
    "selectedbody = {}\n",
    "\n",
    "print(\"Reading files....\")\n",
    "\n",
    "t0 = time.time()\n",
    "\n",
    "data = ''\n",
    "\n",
    "for file in os.listdir(\"data/\"):\n",
    "    if file.endswith(\".sgm\"):\n",
    "        filename = os.path.join(\"data\", file)\n",
    "        f = codecs.open(filename, 'r', encoding='utf-8', errors='ignore')\n",
    "        data = data + f.read()\n",
    "        \n",
    "print(\"It took %.2f sec to read data\" % (time.time() - t0))\n",
    "\n",
    "print(\"Preparing for data...\")\n",
    "\n",
    "t1 = time.time()\n",
    "soup = BeautifulSoup(data, \"html.parser\")\n",
    "bodies = soup.findAll('body')\n",
    "\n",
    "i = 0\n",
    "for body in bodies:\n",
    "    selectedbody[i] = body\n",
    "    documents.append( re.sub(' +', ' ', str(body)\\\n",
    "                     .replace(\"<body>\", \"\").replace(\"</body>\", \"\")\\\n",
    "                     .translate(str.maketrans('', '', string.punctuation))\\\n",
    "                     .replace(\"\", \"\").replace(\"\\n\", \" \").lower() ) )\n",
    "    i += 1\n",
    "\n",
    "print(\"It took %.2f sec to prepare data\" % (time.time() - t0))\n",
    "\n",
    "print(\"The number of documents size is:\" + str(len(documents)))\n",
    "\n",
    "i = 0\n",
    "d = {}\n",
    "t = {}\n",
    "t2 = time.time()\n",
    "\n",
    "for value in documents:\n",
    "    d[i] = value  #create a dictionary where value = document text and key = docid\n",
    "    d[i] = re.sub(\"[^\\w]\", \" \", d[i]).split() #split text into word\n",
    "    \n",
    "    if d[i]:  #remove rows with empty values from dictionary d\n",
    "        i += 1\n",
    "    else:\n",
    "        del d[i]\n",
    "        del body[i]"
   ]
  },
  {
   "cell_type": "code",
   "execution_count": null,
   "metadata": {
    "collapsed": true
   },
   "outputs": [],
   "source": [
    "# =============================================\n",
    "#       Calculate k-shingles\n",
    "# ============================================="
   ]
  }
 ],
 "metadata": {
  "kernelspec": {
   "display_name": "Python 3",
   "language": "python",
   "name": "python3"
  },
  "language_info": {
   "codemirror_mode": {
    "name": "ipython",
    "version": 3
   },
   "file_extension": ".py",
   "mimetype": "text/x-python",
   "name": "python",
   "nbconvert_exporter": "python",
   "pygments_lexer": "ipython3",
   "version": "3.5.1"
  }
 },
 "nbformat": 4,
 "nbformat_minor": 0
}

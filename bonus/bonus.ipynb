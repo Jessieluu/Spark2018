{
 "cells": [
  {
   "cell_type": "code",
   "execution_count": 2,
   "metadata": {
    "collapsed": false
   },
   "outputs": [
    {
     "name": "stdout",
     "output_type": "stream",
     "text": [
      "Read file......\n",
      "Read file done!\n",
      "It took 2.86 to read file\n"
     ]
    }
   ],
   "source": [
    "import re\n",
    "import csv\n",
    "from operator import add\n",
    "import time\n",
    "\n",
    "global Path\n",
    "Path = \"file:/home/ethan/pythonwork/ipynotebook/bonus/\"\n",
    "\n",
    "#read data\n",
    "t = time.time()\n",
    "print(\"Read file......\")\n",
    "dataset = sc.textFile(Path + 'Crimes_-_2001_to_present.csv')\n",
    "firstRow = dataset.first()\n",
    "rowData = dataset.filter(lambda x: x!= firstRow)\\\n",
    "                .map(lambda x: x.split(\",\"))\n",
    "print(\"Read file done!\")\n",
    "print(\"It took %.2f to read file\" % (time.time()-t))"
   ]
  },
  {
   "cell_type": "code",
   "execution_count": 3,
   "metadata": {
    "collapsed": false
   },
   "outputs": [
    {
     "name": "stdout",
     "output_type": "stream",
     "text": [
      "Map and reduce data......\n",
      "Map and reduce data done!\n",
      "Write done!\n",
      "It took 0.00 to output file\n"
     ]
    }
   ],
   "source": [
    "# =================\n",
    "#      task 1\n",
    "# =================\n",
    "\n",
    "print(\"Map and reduce data......\")\n",
    "primaryType = rowData.map(lambda x: (x[5], 1)).reduceByKey(add).sortBy(lambda x: -x[1])\n",
    "locationDescription = rowData.map(lambda x: (x[7], 1)).reduceByKey(add).sortBy(lambda x: -x[1])\n",
    "print(\"Map and reduce data done!\")\n",
    "\n",
    "\n",
    "title_PrimaryType = [(\"PrimaryType\", \"Count\")]\n",
    "title_LocationDescription = [(\"LocationDescription\", \"Count\")]\n",
    "\n",
    "t = time.time()\n",
    "# filename = \"Bouns1.txt\"\n",
    "# with open( filename, 'w', newline='') as out:\n",
    "#     writer = csv.writer(out)\n",
    "#     writer.writerows(title_PrimaryType)\n",
    "#     writer.writerows(primaryType.collect())\n",
    "#     writer.writerows(title_LocationDescription)\n",
    "#     writer.writerows(locationDescription.collect())\n",
    "print(\"Write done!\")\n",
    "print(\"It took %.2f to output file\" % (time.time()-t))"
   ]
  },
  {
   "cell_type": "code",
   "execution_count": 11,
   "metadata": {
    "collapsed": false
   },
   "outputs": [
    {
     "name": "stdout",
     "output_type": "stream",
     "text": [
      "Map and reduce data......\n",
      "Map and reduce data done!\n",
      "Write done!\n",
      "It took 5722.76 to map and output file\n"
     ]
    }
   ],
   "source": [
    "# =================\n",
    "#      task 2\n",
    "# =================\n",
    "\n",
    "print(\"Map and reduce data......\")\n",
    "listLDs = locationDescription.map(lambda x: x[0]).collect()\n",
    "print(\"Map and reduce data done!\")\n",
    "\n",
    "t = time.time()\n",
    "for listLD in listLDs:\n",
    "    primarytoLD = rowData.filter(lambda x: x[7] == listLD)\\\n",
    "                        .map(lambda x: (x[5], 1))\\\n",
    "                        .reduceByKey(add)\\\n",
    "                        .sortBy(lambda x: -x[1])\n",
    "    temp_LocationDescription = [(\"LocationDescription\", listLD)]\n",
    "    title_PrimaryType = [(\"PrimaryType\", \"Count\")]\n",
    "\n",
    "#     filename = \"Bouns2.txt\"\n",
    "#     with open( filename, 'a+', newline='') as out:\n",
    "#         writer = csv.writer(out)\n",
    "#         writer.writerows(temp_LocationDescription)\n",
    "#         writer.writerows(title_PrimaryType)\n",
    "#         writer.writerows(primarytoLD.collect())\n",
    "print(\"Write done!\")\n",
    "print(\"It took %.2f to map and output file\" % (time.time()-t))"
   ]
  },
  {
   "cell_type": "code",
   "execution_count": 13,
   "metadata": {
    "collapsed": false
   },
   "outputs": [
    {
     "name": "stdout",
     "output_type": "stream",
     "text": [
      "Map and reduce data......\n",
      "Map and reduce data done!\n",
      "Write done!\n",
      "It took 5247.87 to map and output file\n"
     ]
    }
   ],
   "source": [
    "# =================\n",
    "#      task 3\n",
    "# =================\n",
    "print(\"Map and reduce data......\")\n",
    "listPTs = locationDescription.map(lambda x: x[0]).collect()\n",
    "print(\"Map and reduce data done!\")\n",
    "\n",
    "t = time.time()\n",
    "for listPT in listPTs:\n",
    "    blocktoPT = rowData.filter(lambda x: x[5] == listPT)\\\n",
    "                        .map(lambda x: x[3].split(\" \"))\\\n",
    "                        .filter(lambda x: x[-1] == 'ST')\\\n",
    "                        .map(lambda x: x[2], 1)\\\n",
    "                        .reduceByKey(add)\\\n",
    "                        .sortBy(lambda x: -x[1])\n",
    "    temp_PrimaryType = [(\"PrimaryType\", listPT)]\n",
    "    title_Block = [(\"Block\", \"Count\")]\n",
    "    \n",
    "#     filename = \"Bouns3.txt\"\n",
    "#     with open( filename, 'a+', newline='') as out:\n",
    "#         writer = csv.writer(out)\n",
    "#         writer.writerows(temp_PrimaryType)\n",
    "#         writer.writerows(title_Block)\n",
    "#         writer.writerows(blocktoPT.collect())\n",
    "print(\"Write done!\")\n",
    "print(\"It took %.2f to map and output file\" % (time.time()-t))"
   ]
  },
  {
   "cell_type": "code",
   "execution_count": 14,
   "metadata": {
    "collapsed": false
   },
   "outputs": [
    {
     "name": "stdout",
     "output_type": "stream",
     "text": [
      "Map and reduce data in PT......\n",
      "Map and reduce data in PT done!\n",
      "Output PrimaryType done!\n",
      "Map and reduce data in LD......\n",
      "Map and reduce data in LD done!\n",
      "Output LocationDescription done!\n",
      "It took 15494.13 to map and output file\n"
     ]
    }
   ],
   "source": [
    "print(\"Map and reduce data in PT......\")\n",
    "listPTDates = rowData.map(lambda x: (x[5], x[2].split(\" \")))\\\n",
    "                    .map(lambda x: (x[0], x[1][1].split(\":\")))\\\n",
    "                    .map(lambda x: (x[0], x[1][0]))\n",
    "print(\"Map and reduce data in PT done!\")\n",
    "\n",
    "filename = \"Bonus4.txt\"\n",
    "t = time.time()\n",
    "for listPTDate in listPTs:\n",
    "    datePT = listPTDates.filter(lambda x: x[0] == listPTDate)\\\n",
    "                        .map(lambda x: (x[1], 1))\\\n",
    "                        .reduceByKey(add)\\\n",
    "                        .sortBy(lambda x: -x[1])\n",
    "    temp_PrimaryType = [(\"PrimaryType\", listPTDate)]\n",
    "    title_date = [(\"Hour\", \"Count\")]\n",
    "    \n",
    "    with open(filename, 'a+', newline='') as out:\n",
    "        writer = csv.writer(out)\n",
    "        writer.writerows(temp_PrimaryType)\n",
    "        writer.writerows(title_date)\n",
    "        writer.writerows(datePT.collect())\n",
    "print(\"Output PrimaryType done!\")\n",
    "\n",
    "print(\"Map and reduce data in LD......\")\n",
    "listLDDates = rowData.map(lambda x: (x[7], x[2].split(\" \")))\\\n",
    "                    .map(lambda x: (x[0], x[1][1].split(\":\")))\\\n",
    "                    .map(lambda x: (x[0], x[1][0]))\n",
    "print(\"Map and reduce data in LD done!\")\n",
    "\n",
    "for listLDDate in listLDs:\n",
    "    dateLD = listLDDates.filter(lambda x: x[0] == listLDDate)\\\n",
    "                        .map(lambda x: (x[1], 1))\\\n",
    "                        .reduceByKey(add)\\\n",
    "                        .sortBy(lambda x: -x[1])\n",
    "    temp_LocationDescription = [(\"LocationDescription\", listLDDate)]\n",
    "    title_date = [(\"Hour\", \"Count\")]\n",
    "    \n",
    "    with open(filename, 'a+', newline='') as out:\n",
    "        writer = csv.writer(out)\n",
    "        writer.writerows(temp_LocationDescription)\n",
    "        writer.writerows(title_date)\n",
    "        writer.writerows(dateLD.collect())\n",
    "print(\"Output LocationDescription done!\")\n",
    "print(\"It took %.2f to map and output file\" % (time.time()-t))"
   ]
  },
  {
   "cell_type": "code",
   "execution_count": null,
   "metadata": {
    "collapsed": true
   },
   "outputs": [],
   "source": []
  }
 ],
 "metadata": {
  "kernelspec": {
   "display_name": "Python 3",
   "language": "python",
   "name": "python3"
  }
 },
 "nbformat": 4,
 "nbformat_minor": 0
}
